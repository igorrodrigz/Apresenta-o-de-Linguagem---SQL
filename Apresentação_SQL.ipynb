{
  "nbformat": 4,
  "nbformat_minor": 0,
  "metadata": {
    "colab": {
      "provenance": []
    },
    "kernelspec": {
      "name": "python3",
      "display_name": "Python 3"
    },
    "language_info": {
      "name": "python"
    }
  },
  "cells": [
    {
      "cell_type": "markdown",
      "source": [
        "# Linguagem SQL\n",
        "**S**tructured **Q**uery **L**anguage. É uma linguagem de programação usada para gerenciar e manipular bancos de dados relacionais. Com o SQL, os usários podem realizar diversas operações, como consultar, inserir, atualizar e deletar dados. SQL é essencial para interar com SGBDs.\n",
        "Como MySQL, PostgreeSQL, SQLite, Oracle Database e Microsoft SQL server.\n",
        "\n",
        "Desenvolvida inicialmente pela IBM nos anos 1970, baseado no modelo proposto por Edgar Codd.\n",
        "\n",
        "## Características Principais da SQL\n",
        "**Declaração de Dados (DDL)**: Comandos como 'CREATE','ALTER','DROP', para definir e modificar a estrutura de banco de dados.\n",
        "**Manipulação de Dados (DML)**: Comandos como 'SELECT','INSERT','UPDATE','DELETE' para manipular dados.\n",
        "**Controle de Transações (TCL)**: Comandos como 'COMMIT', 'ROLLBACK' para gerenciar transações.\n",
        "**Controle de Dados (DCL)**: Comandos como 'GRANT', 'REVOKE' para controlar acesso a dados."
      ],
      "metadata": {
        "id": "Y2OUDwiH_Vl2"
      }
    },
    {
      "cell_type": "markdown",
      "source": [
        "# Comandos básicos do SQL"
      ],
      "metadata": {
        "id": "5Gi4B8ZJkS36"
      }
    },
    {
      "cell_type": "markdown",
      "source": [
        "# SELECT\n",
        "Usado para consultar dados de uma tabela"
      ],
      "metadata": {
        "id": "qPXGIHrGkbpu"
      }
    },
    {
      "cell_type": "code",
      "execution_count": null,
      "metadata": {
        "id": "ugpHBhGUkDFg"
      },
      "outputs": [],
      "source": [
        "SELECT nome, idade FROM ListaDeEstudantes;"
      ]
    },
    {
      "cell_type": "markdown",
      "source": [
        "# INSERT\n",
        "Usado para inserir novos dados em uma tabela."
      ],
      "metadata": {
        "id": "jE_NBrOLkvaw"
      }
    },
    {
      "cell_type": "code",
      "source": [
        "INSERT INTO ListaDeEstudantes (nome, idade) VALUES ('Vinicius', 18);"
      ],
      "metadata": {
        "id": "Q5hox6Mjk1c4"
      },
      "execution_count": null,
      "outputs": []
    },
    {
      "cell_type": "code",
      "source": [
        "INSERT INTO ListaDeEstudantes (nome, idade) VALUES ('Alice', 20"
      ],
      "metadata": {
        "id": "2gR_k7Izk_Zs"
      },
      "execution_count": null,
      "outputs": []
    },
    {
      "cell_type": "markdown",
      "source": [
        "# UPDATE\n",
        "Usado para atualizar dados em uma tabela"
      ],
      "metadata": {
        "id": "JALBgw5olRCX"
      }
    },
    {
      "cell_type": "code",
      "source": [
        "UPDATE ListaDeEstudantes SET idade = 19 WHERE nome = Vinicius;"
      ],
      "metadata": {
        "id": "tOt3MkOElcld"
      },
      "execution_count": null,
      "outputs": []
    },
    {
      "cell_type": "markdown",
      "source": [
        "# DELETE\n",
        "Usado para deletar dados de uma tabela"
      ],
      "metadata": {
        "id": "YbtHe3yDoBly"
      }
    },
    {
      "cell_type": "code",
      "source": [
        "DELETE FROM ListaDeEstudantes WHERE nome = Alice;"
      ],
      "metadata": {
        "id": "6gX8UbnZoFwC"
      },
      "execution_count": null,
      "outputs": []
    },
    {
      "cell_type": "markdown",
      "source": [
        "# CREATE TABLE\n",
        "Usado para criar uma nova tabela no banco de dados."
      ],
      "metadata": {
        "id": "-_stOb6kondy"
      }
    },
    {
      "cell_type": "code",
      "source": [
        "CREATE TABLE ListaDeEstudantesAprovados (\n",
        "    id INTEGER PRIMARY KEY,\n",
        "    nome TEXT,\n",
        "    idade INTEGER\n",
        ");"
      ],
      "metadata": {
        "id": "FsWzrQcAosvB"
      },
      "execution_count": null,
      "outputs": []
    },
    {
      "cell_type": "markdown",
      "source": [
        "# DROP TABLE\n",
        "Usado para deletar uma tabela do banco de dados"
      ],
      "metadata": {
        "id": "TibOJbGrpE2F"
      }
    },
    {
      "cell_type": "code",
      "source": [
        "DROP TABLE ListaDeEstudantesAprovados;"
      ],
      "metadata": {
        "id": "2zNXdwIFpAyN"
      },
      "execution_count": null,
      "outputs": []
    },
    {
      "cell_type": "markdown",
      "source": [
        "# ALTER TABLE\n",
        "Usado para modificar a estrutura de uma tabela existente."
      ],
      "metadata": {
        "id": "icnfqLU-rn7t"
      }
    },
    {
      "cell_type": "code",
      "source": [
        "ALTER TABLE ListaDeEstudantes ADD COLUMN sobrenome TEXT;"
      ],
      "metadata": {
        "id": "kZvOGS8Vrt_C"
      },
      "execution_count": null,
      "outputs": []
    },
    {
      "cell_type": "markdown",
      "source": [
        "# WHERE\n",
        "Usado para filtrar registros que atendem a uma condição específica."
      ],
      "metadata": {
        "id": "oaz9zOLwr0Vb"
      }
    },
    {
      "cell_type": "code",
      "source": [
        "SELECT nome, idade FROM ListaDeEstudantes WHERE idade > 18;"
      ],
      "metadata": {
        "id": "RATDwb43srG7"
      },
      "execution_count": null,
      "outputs": []
    },
    {
      "cell_type": "markdown",
      "source": [
        "# ORDER BY\n",
        "Usado para ordenar os resultados\n"
      ],
      "metadata": {
        "id": "5S6AtD3Bun6s"
      }
    },
    {
      "cell_type": "code",
      "source": [
        "SELECT nome, idade FROM ListaDeEstudantes ORDER BY idade DESC;"
      ],
      "metadata": {
        "id": "XwAqeOHfvhfV"
      },
      "execution_count": null,
      "outputs": []
    },
    {
      "cell_type": "markdown",
      "source": [
        "# GROUP BY\n",
        "Usado para agrupar registros que têm valores iguais em colunas especificas."
      ],
      "metadata": {
        "id": "CDhz3y_jvsOy"
      }
    },
    {
      "cell_type": "code",
      "source": [
        "SELECT idade, COUNT(*) FROM ListaDeEstudantesAprovados GROUP BY idade;"
      ],
      "metadata": {
        "id": "rJuREMnavpBa"
      },
      "execution_count": null,
      "outputs": []
    },
    {
      "cell_type": "markdown",
      "source": [
        "# HAVING\n",
        "Usado para filtrar grupos de registros, semelhante ao WHERE, mas para grupos."
      ],
      "metadata": {
        "id": "_WRbfh4dxNSd"
      }
    },
    {
      "cell_type": "code",
      "source": [
        "SELECT idade FROM ListaDeEstudantesAprovados GROUP BY idade HAVING COUNT(*) > 1;"
      ],
      "metadata": {
        "id": "bFmqYjrEx4WQ"
      },
      "execution_count": null,
      "outputs": []
    },
    {
      "cell_type": "markdown",
      "source": [
        "# JOIN\n",
        "Usado para combinar registros de duas ou mais tabelas baseadas em uma coluna relacionada entre elas."
      ],
      "metadata": {
        "id": "UUyvfwPD-nPQ"
      }
    },
    {
      "cell_type": "code",
      "source": [
        "SELECT ListaDeEstudantes.nome, ListaDeEstudantes.idade, ListaDeCursos.nome FROM ListaDeEstudantes JOIN ListaDeCursos ON ListaDeEstudantes.curso_id = ListaDeCursos.id;"
      ],
      "metadata": {
        "id": "VUbw3i8u-tyo"
      },
      "execution_count": null,
      "outputs": []
    }
  ]
}
